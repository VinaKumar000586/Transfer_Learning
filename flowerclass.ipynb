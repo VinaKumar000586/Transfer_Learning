{
 "cells": [
  {
   "cell_type": "code",
   "execution_count": 3,
   "id": "27a8320e",
   "metadata": {},
   "outputs": [],
   "source": [
    "import tensorflow as tf\n",
    "import numpy as np\n",
    "import cv2 as cv\n",
    "import os"
   ]
  },
  {
   "cell_type": "code",
   "execution_count": 1,
   "id": "3fca4f55",
   "metadata": {},
   "outputs": [],
   "source": [
    "# secon way to load the data \n",
    "train_path = r'C:\\Users\\DELL\\OneDrive\\Desktop\\opencv\\train'\n",
    "val_path = r'C:\\Users\\DELL\\OneDrive\\Desktop\\opencv\\val'\n",
    "\n",
    "def load_data(path,is_train=True):\n",
    "    data = tf.keras.utils.image_dataset_from_directory(\n",
    "        path,\n",
    "        image_size=(224, 224),\n",
    "        batch_size=2,\n",
    "        label_mode='categorical'\n",
    "\n",
    "    )\n",
    "    class_names = data.class_names\n",
    "    data = data.cache()\n",
    "    if is_train:\n",
    "        data = data.shuffle(buffer_size=1000)\n",
    "    data = data.prefetch(buffer_size = tf.data.AUTOTUNE)\n",
    "\n",
    "    return data,class_names\n",
    "\n",
    "def train_val_data():\n",
    "    train_data, train_class_names = load_data(train_path)\n",
    "    val_data, val_class_names = load_data(val_path)\n",
    "\n",
    "    return train_data, train_class_names, val_data\n",
    "        \n",
    "    \n",
    "    \n",
    "    \n",
    "    \n",
    "    "
   ]
  },
  {
   "cell_type": "code",
   "execution_count": 4,
   "id": "1748547e",
   "metadata": {},
   "outputs": [
    {
     "name": "stdout",
     "output_type": "stream",
     "text": [
      "Found 13642 files belonging to 14 classes.\n",
      "Found 98 files belonging to 14 classes.\n"
     ]
    }
   ],
   "source": [
    "train_df, train_class_names, val_df = train_val_data()"
   ]
  },
  {
   "cell_type": "code",
   "execution_count": 7,
   "id": "3da083cd",
   "metadata": {},
   "outputs": [],
   "source": [
    "images = []\n",
    "labels = []\n",
    "\n",
    "for image,label in train_df.take(1):\n",
    "    images.append(image.numpy())\n",
    "    labels.append(label.numpy())\n",
    "images = np.concatenate(images,axis=0)\n",
    "labels = np.concatenate(labels,axis=0)"
   ]
  },
  {
   "cell_type": "code",
   "execution_count": 10,
   "id": "4a8f9454",
   "metadata": {},
   "outputs": [
    {
     "data": {
      "text/plain": [
       "(2, 224, 224, 3)"
      ]
     },
     "execution_count": 10,
     "metadata": {},
     "output_type": "execute_result"
    }
   ],
   "source": [
    "images.shape"
   ]
  },
  {
   "cell_type": "markdown",
   "id": "40f26fd7",
   "metadata": {},
   "source": [
    "# ***Model Making***"
   ]
  },
  {
   "cell_type": "code",
   "execution_count": 5,
   "id": "2ca12a4f",
   "metadata": {},
   "outputs": [],
   "source": [
    "from tensorflow.keras.applications import MobileNetV2,ResNet50V2,EfficientNetB5"
   ]
  },
  {
   "cell_type": "code",
   "execution_count": 6,
   "metadata": {},
   "outputs": [],
   "source": [
    "from tensorflow.keras.callbacks import EarlyStopping,ReduceLROnPlateau"
   ]
  },
  {
   "cell_type": "code",
   "execution_count": null,
   "id": "e1e92445",
   "metadata": {},
   "outputs": [],
   "source": [
    "base_model = EfficientNetB5(input_shape = (224,224.3),include_top=False,weights='imagenet')\n",
    "base_model.trainable = False\n"
   ]
  },
  {
   "cell_type": "code",
   "execution_count": null,
   "id": "29e7127d",
   "metadata": {},
   "outputs": [],
   "source": []
  },
  {
   "cell_type": "code",
   "execution_count": null,
   "id": "05a35962",
   "metadata": {},
   "outputs": [],
   "source": []
  },
  {
   "cell_type": "code",
   "execution_count": null,
   "id": "f3bc27f0",
   "metadata": {},
   "outputs": [],
   "source": []
  },
  {
   "cell_type": "code",
   "execution_count": null,
   "id": "6cbd07f7",
   "metadata": {},
   "outputs": [],
   "source": []
  }
 ],
 "metadata": {
  "kernelspec": {
   "display_name": "Python 3.10 (TensorFlow)",
   "language": "python",
   "name": "tensorflow_env"
  },
  "language_info": {
   "codemirror_mode": {
    "name": "ipython",
    "version": 3
   },
   "file_extension": ".py",
   "mimetype": "text/x-python",
   "name": "python",
   "nbconvert_exporter": "python",
   "pygments_lexer": "ipython3",
   "version": "3.10.11"
  }
 },
 "nbformat": 4,
 "nbformat_minor": 5
}
